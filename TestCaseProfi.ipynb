{
 "cells": [
  {
   "cell_type": "markdown",
   "id": "a8d724c6",
   "metadata": {},
   "source": [
    "Задание на Python\n",
    " \n",
    "Есть CSV-файл c зарплатами сотрудников. Каждая строка имеет следующий формат: «<Фамилия сотрудника> <зарплата>» (прим.: MCILWRAITH 550). Необходимо написать python-скрипт, который принимает на вход аргумент — название CSV-файла вышеуказанного формата и выдаёт на выходе следующие данные, рассчитанные на данных из файла:\n",
    " \n",
    "Кол-во сотрудников;\n",
    "Общая сумма зарплат;\n",
    "Средняя зарплата;\n",
    "Медиана от зарплат;\n",
    "Минимальная зарплата;\n",
    "Максимальная зарплата;\n",
    "Кол-во сотрудников, получающих сумму строго большую, чем средняя зарплата.\n",
    " \n",
    "Дополнительно:\n",
    " \n",
    "Сделать возможность принимать данные указанного формата из стандартного ввода;\n",
    "Посчитать количество сотрудников, чьи фамилии начинаются на букву «K».\n"
   ]
  },
  {
   "cell_type": "code",
   "execution_count": 4,
   "id": "32bc354b",
   "metadata": {},
   "outputs": [
    {
     "name": "stdout",
     "output_type": "stream",
     "text": [
      "1622122525_employees.csv\n",
      "Количество сотрудников: 48953\n",
      "Общая сумма зарплат: 24457750\n",
      "Средняя зарплата: 499.616979551815\n",
      "Медиана от зарплат: 500.0\n",
      "Минимальная зарплата: 50\n",
      "Максимальная зарплата: 950\n",
      "Кол-во сотрудников, получающих сумму строго большую, чем средняя зарплата: 25772\n",
      "Количество сотрудников, чьи фамилии начинаются на букву «K»: 2218\n"
     ]
    }
   ],
   "source": [
    "import pandas as pd\n",
    "filename = input()\n",
    "typeoffile = filename.split(sep='.')[-1]\n",
    "if typeoffile == 'csv':\n",
    "    df = pd.read_csv(filename, delimiter=' ',names=['surname', 'salary'])\n",
    "if typeoffile == 'xls':\n",
    "    df = pd.read_excel(filename, delimiter=' ',names=['surname', 'salary'])\n",
    "#можно  увеличить список поддерживаемых файлов добавлением доп условий if\n",
    "df.surname.fillna(\"NoSurname\", inplace=True)#для цикла по датафрейму(фамилиям), \n",
    "#чтобы не было ошибки при обращении строке-фамилии\n",
    "countk = 0\n",
    "for i in range(df.shape[0]):\n",
    "    if df.surname[i][0] == 'K':\n",
    "        countk = countk + 1\n",
    "print(f\"Количество сотрудников: {df.shape[0]}\\nОбщая сумма зарплат: {sum(df.salary)}\\\n",
    "\\nСредняя зарплата: {df.salary.mean()}\\nМедиана от зарплат: {df.salary.median()}\\\n",
    "\\nМинимальная зарплата: {df.salary.min()}\\nМаксимальная зарплата: {df.salary.max()}\\\n",
    "\\nКол-во сотрудников, получающих сумму строго большую, чем средняя зарплата: \\\n",
    "{df[df.salary>(df.salary.mean())].shape[0]}\\\n",
    "\\nКоличество сотрудников, чьи фамилии начинаются на букву «K»: {countk}\")"
   ]
  }
 ],
 "metadata": {
  "kernelspec": {
   "display_name": "Python 3",
   "language": "python",
   "name": "python3"
  },
  "language_info": {
   "codemirror_mode": {
    "name": "ipython",
    "version": 3
   },
   "file_extension": ".py",
   "mimetype": "text/x-python",
   "name": "python",
   "nbconvert_exporter": "python",
   "pygments_lexer": "ipython3",
   "version": "3.9.4"
  }
 },
 "nbformat": 4,
 "nbformat_minor": 5
}
